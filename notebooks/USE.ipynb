{
  "nbformat": 4,
  "nbformat_minor": 0,
  "metadata": {
    "colab": {
      "name": "USE.ipynb",
      "private_outputs": true,
      "provenance": []
    },
    "kernelspec": {
      "name": "python3",
      "display_name": "Python 3"
    },
    "accelerator": "GPU"
  },
  "cells": [
    {
      "cell_type": "markdown",
      "metadata": {
        "id": "ePof48MTVjtu"
      },
      "source": [
        "Universal Sentence encoder\n",
        "\n",
        "----- Tested on Google Colab: Place cleaned data files in the 'Files' section Note: Version specific -----"
      ]
    },
    {
      "cell_type": "code",
      "metadata": {
        "id": "wIJmdVO1MYtE"
      },
      "source": [
        "import tensorflow.compat.v1 as tfv1\n",
        "tfv1.disable_eager_execution()\n",
        "tfv1.disable_v2_behavior()\n",
        "import tensorflow as tf\n",
        "import tensorflow_hub as hub\n",
        "module_url = \"https://tfhub.dev/google/universal-sentence-encoder-large/3\"\n",
        "module = hub.Module(module_url)"
      ],
      "execution_count": null,
      "outputs": []
    },
    {
      "cell_type": "code",
      "metadata": {
        "id": "OLIF3n1DFcCb"
      },
      "source": [
        "import numpy as np\n",
        "import pandas as pd\n",
        "from sklearn.model_selection import train_test_split\n",
        "\n",
        "\n",
        "from keras.preprocessing import text, sequence\n",
        "from keras.callbacks import EarlyStopping\n",
        "from keras.preprocessing.sequence import pad_sequences\n",
        "\n",
        "\n",
        "embed = '.vector_cache/crawl-300d-2M.vec'\n",
        "train = pd.read_csv('train.csv')\n",
        "test = pd.read_csv('test.csv')\n",
        "\n",
        "train, val = train_test_split(train, test_size=0.1)\n",
        "\n"
      ],
      "execution_count": null,
      "outputs": []
    },
    {
      "cell_type": "code",
      "metadata": {
        "id": "gQ71hsUPGTEG"
      },
      "source": [
        "def get_sentence_embedding(train, val, test):\n",
        "    train_x = train['comment_text'].str.lower()\n",
        "    val_x = val['comment_text'].str.lower()\n",
        "    test_x = test['comment_text'].str.lower()\n",
        "    \n",
        "    train_y = train[['toxic', 'severe_toxic', 'obscene', 'threat', 'insult', 'identity_hate']].values\n",
        "    val_y = val[['toxic', 'severe_toxic', 'obscene', 'threat', 'insult', 'identity_hate']].values\n",
        "    \n",
        "    \n",
        "    return train_x, val_x, test_x, train_y, val_y\n",
        "    \n",
        "\n",
        "\n",
        "train_x, val_x, test_x, train_y, val_y = get_sentence_embedding(train, val, test)  \n",
        "\n",
        "def UniversalEmbedding(x):\n",
        "    return module(tf.squeeze(tf.cast(x, tf.string)), \n",
        "                 signature=\"default\", as_dict=True)[\"default\"]\n"
      ],
      "execution_count": null,
      "outputs": []
    },
    {
      "cell_type": "code",
      "metadata": {
        "id": "w4HKW9h-IoFG"
      },
      "source": [
        "from tensorflow.keras.models import Model\n",
        "from tensorflow.keras.layers import Lambda, Dense, Input, LSTM, Bidirectional, Conv1D,GRU, Dropout, Embedding\n",
        "\n"
      ],
      "execution_count": null,
      "outputs": []
    },
    {
      "cell_type": "code",
      "metadata": {
        "id": "rzDFn6hOIJYY"
      },
      "source": [
        "\n",
        "MAX_LEN = 100 \n",
        "MAX_WORDS = 50000\n",
        "EMBED_SIZE = 512\n",
        "\n",
        "class USE(Model):\n",
        "    def __init__(self, ):\n",
        "        super(USE, self).__init__()\n",
        "\n",
        "        self.embedding = Lambda(UniversalEmbedding,output_shape=(EMBED_SIZE,))\n",
        "        self.l2 = Dense(6, activation='sigmoid')\n",
        "\n",
        "    def call(self, inp):\n",
        "        x = self.embedding(inp)\n",
        "        x = self.l2(x)\n",
        "        return x\n"
      ],
      "execution_count": null,
      "outputs": []
    },
    {
      "cell_type": "code",
      "metadata": {
        "id": "CBscPuk5FnPR"
      },
      "source": [
        "BATCH_SIZE = 128\n",
        "from keras import backend as K\n",
        "es = EarlyStopping(monitor='val_loss', mode='min', verbose=1)\n",
        "model = USE()\n",
        "model.compile(loss='binary_crossentropy', optimizer='adam', metrics=['accuracy'])\n",
        "with tfv1.Session() as session:\n",
        "  K.set_session(session)\n",
        "  session.run(tfv1.global_variables_initializer())\n",
        "  session.run(tfv1.tables_initializer())\n",
        "  history = model.fit(np.array(train_x), \n",
        "            train_y,\n",
        "            validation_data=(np.array(val_x), val_y),\n",
        "            epochs=1, \n",
        "            batch_size=BATCH_SIZE)\n",
        "  model.save_weights('./model.h5')"
      ],
      "execution_count": null,
      "outputs": []
    },
    {
      "cell_type": "code",
      "metadata": {
        "id": "-ctY3RUw296Z"
      },
      "source": [
        "BATCH_SIZE = 1024\n",
        "with tfv1.Session() as session:\n",
        "  K.set_session(session)\n",
        "  session.run(tfv1.global_variables_initializer())\n",
        "  session.run(tfv1.tables_initializer())\n",
        "  predictions = model.predict(test_x, batch_size=BATCH_SIZE, verbose=1)\n",
        "  submission = pd.read_csv('input/sample_submission.csv')\n",
        "  submission[['toxic', 'severe_toxic', 'obscene', 'threat', 'insult', 'identity_hate']] = predictions\n",
        "  submission.to_csv('submission.csv', index=False)"
      ],
      "execution_count": null,
      "outputs": []
    }
  ]
}