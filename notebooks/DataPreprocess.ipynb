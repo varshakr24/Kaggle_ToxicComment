{
 "cells": [
  {
   "cell_type": "markdown",
   "metadata": {},
   "source": [
    "Data preprocessing:\n",
    "\n",
    "    Remove image tag\n",
    "    convert emoji\n",
    "    keep only words and spaces\n",
    "    correct spellings\n",
    "\n",
    "DO NOT RUN!!! Takes long time Note: cleaned files included\n"
   ]
  },
  {
   "cell_type": "code",
   "execution_count": 1,
   "metadata": {},
   "outputs": [
    {
     "data": {
      "image/png": "[encoded data removed]",
      "text/plain": [
       "<Figure size 432x288 with 1 Axes>"
      ]
     },
     "metadata": {
      "needs_background": "light"
     },
     "output_type": "display_data"
    }
   ],
   "source": [
    "import pandas as pd\n",
    "train = pd.read_csv('input/train.csv')\n",
    "train['number_of_words'] = train['comment_text'].apply(lambda x: len(x.split()))\n",
    "ax = train['number_of_words'].plot.hist(bins=12, alpha=0.5)"
   ]
  },
  {
   "cell_type": "code",
   "execution_count": 2,
   "metadata": {},
   "outputs": [
    {
     "name": "stdout",
     "output_type": "stream",
     "text": [
      "Requirement already satisfied: nltk in ./anaconda3/envs/tensorflow2_latest_p37/lib/python3.7/site-packages (3.4.5)\r\n",
      "Requirement already satisfied: six in ./anaconda3/envs/tensorflow2_latest_p37/lib/python3.7/site-packages (from nltk) (1.14.0)\r\n"
     ]
    },
    {
     "name": "stderr",
     "output_type": "stream",
     "text": [
      "[nltk_data] Downloading package stopwords to /home/ubuntu/nltk_data...\n",
      "[nltk_data]   Package stopwords is already up-to-date!\n"
     ]
    },
    {
     "data": {
      "text/plain": [
       "True"
      ]
     },
     "execution_count": 2,
     "metadata": {},
     "output_type": "execute_result"
    }
   ],
   "source": [
    "!pip install nltk\n",
    "import nltk\n",
    "nltk.download('stopwords')"
   ]
  },
  {
   "cell_type": "code",
   "execution_count": 12,
   "metadata": {},
   "outputs": [
    {
     "data": {
      "text/html": [
       "<div>\n",
       "<style scoped>\n",
       "    .dataframe tbody tr th:only-of-type {\n",
       "        vertical-align: middle;\n",
       "    }\n",
       "\n",
       "    .dataframe tbody tr th {\n",
       "        vertical-align: top;\n",
       "    }\n",
       "\n",
       "    .dataframe thead th {\n",
       "        text-align: right;\n",
       "    }\n",
       "</style>\n",
       "<table border=\"1\" class=\"dataframe\">\n",
       "  <thead>\n",
       "    <tr style=\"text-align: right;\">\n",
       "      <th></th>\n",
       "      <th>0</th>\n",
       "    </tr>\n",
       "  </thead>\n",
       "  <tbody>\n",
       "    <tr>\n",
       "      <th>article</th>\n",
       "      <td>57661</td>\n",
       "    </tr>\n",
       "    <tr>\n",
       "      <th>wikipedia</th>\n",
       "      <td>48427</td>\n",
       "    </tr>\n",
       "    <tr>\n",
       "      <th>page</th>\n",
       "      <td>46460</td>\n",
       "    </tr>\n",
       "    <tr>\n",
       "      <th>talk</th>\n",
       "      <td>37094</td>\n",
       "    </tr>\n",
       "    <tr>\n",
       "      <th>please</th>\n",
       "      <td>29794</td>\n",
       "    </tr>\n",
       "    <tr>\n",
       "      <th>would</th>\n",
       "      <td>29323</td>\n",
       "    </tr>\n",
       "    <tr>\n",
       "      <th>one</th>\n",
       "      <td>29179</td>\n",
       "    </tr>\n",
       "    <tr>\n",
       "      <th>like</th>\n",
       "      <td>28008</td>\n",
       "    </tr>\n",
       "    <tr>\n",
       "      <th>see</th>\n",
       "      <td>21603</td>\n",
       "    </tr>\n",
       "    <tr>\n",
       "      <th>also</th>\n",
       "      <td>20641</td>\n",
       "    </tr>\n",
       "  </tbody>\n",
       "</table>\n",
       "</div>"
      ],
      "text/plain": [
       "               0\n",
       "article    57661\n",
       "wikipedia  48427\n",
       "page       46460\n",
       "talk       37094\n",
       "please     29794\n",
       "would      29323\n",
       "one        29179\n",
       "like       28008\n",
       "see        21603\n",
       "also       20641"
      ]
     },
     "execution_count": 12,
     "metadata": {},
     "output_type": "execute_result"
    }
   ],
   "source": [
    "from sklearn.feature_extraction.text import CountVectorizer\n",
    "from nltk.corpus import stopwords\n",
    "stops =  set(stopwords.words('english')+['com'])\n",
    "co = CountVectorizer(stop_words=stops)\n",
    "counts = co.fit_transform(train['comment_text'])\n",
    "pd.DataFrame(counts.sum(axis=0),columns=co.get_feature_names()).T.sort_values(0,ascending=False).head(10)"
   ]
  },
  {
   "cell_type": "code",
   "execution_count": 11,
   "metadata": {},
   "outputs": [
    {
     "name": "stdout",
     "output_type": "stream",
     "text": [
      "This is wikipedia   article\n"
     ]
    }
   ],
   "source": [
    "import pandas as pd\n",
    "\n",
    "import emoji\n",
    "import re\n",
    "import numpy as np\n",
    "import pandas as pd\n",
    "from autocorrect import Speller\n",
    "\n",
    "\n",
    "spell = Speller(lang='en')\n",
    "\n",
    "def preprocess(inp):\n",
    "    x = emoji.demojize(inp)\n",
    "    x= re.sub(r\"Image:.*(?:.jpg|.svg|.png|.jpeg|.gif|.tif|.ext)\",' ',x,flags=re.IGNORECASE)\n",
    "    x= re.sub(r\"File:.*(?:.jpg|.svg|.png|.jpeg|.gif|.tif|.ext)\",' ',x,flags=re.IGNORECASE)\n",
    "    x= re.sub(r'[^a-zA-Z\\s]',' ',x)\n",
    "    x= re.sub(r'[\\n]',' ',x) \n",
    "    x = re.sub(r'\\w(?:wikipedia|page|article)', ' ',x)\n",
    "    #x = spell(inp)\n",
    "    return str(x)   \n"
   ]
  },
  {
   "cell_type": "code",
   "execution_count": null,
   "metadata": {},
   "outputs": [],
   "source": [
    "train = pd.read_csv('input/train.csv')\n",
    "train['comment_text'] = train['comment_text'].fillna(' ').apply(lambda x: preprocess(x))\n",
    "train.to_csv('cleaned/train.csv', index=False)\n",
    "\n",
    "test = pd.read_csv('input/test.csv')\n",
    "test['comment_text'] = test['comment_text'].fillna(' ').apply(lambda x: preprocess(x))\n",
    "test.to_csv('cleaned/train.csv', index=False)"
   ]
  }
 ],
 "metadata": {
  "kernelspec": {
   "display_name": "Environment (conda_tensorflow2_latest_p37)",
   "language": "python",
   "name": "conda_tensorflow2_latest_p37"
  },
  "language_info": {
   "codemirror_mode": {
    "name": "ipython",
    "version": 3
   },
   "file_extension": ".py",
   "mimetype": "text/x-python",
   "name": "python",
   "nbconvert_exporter": "python",
   "pygments_lexer": "ipython3",
   "version": "3.7.6"
  }
 },
 "nbformat": 4,
 "nbformat_minor": 4
}
