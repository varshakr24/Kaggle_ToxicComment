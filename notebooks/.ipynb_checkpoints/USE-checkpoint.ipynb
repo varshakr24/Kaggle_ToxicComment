{
 "cells": [
  {
   "cell_type": "markdown",
   "metadata": {
    "id": "ePof48MTVjtu"
   },
   "source": [
    "### Universal Sentence encoder ###\n",
    "\n",
    "----- Tested on Google Colab: Place cleaned data files in the 'Files' section\n",
    "\n",
    "Note: Version specific TF v1-----"
   ]
  },
  {
   "cell_type": "code",
   "execution_count": null,
   "metadata": {
    "id": "wIJmdVO1MYtE"
   },
   "outputs": [],
   "source": [
    "import tensorflow.compat.v1 as tfv1\n",
    "\n",
    "\"\"\"tf v1 compatible settings\"\"\"\n",
    "tfv1.disable_eager_execution()\n",
    "tfv1.disable_v2_behavior()\n",
    "\n",
    "\n",
    "\n",
    "import tensorflow as tf\n",
    "import tensorflow_hub as hub\n",
    "module_url = \"https://tfhub.dev/google/universal-sentence-encoder-large/3\"\n",
    "module = hub.Module(module_url)"
   ]
  },
  {
   "cell_type": "markdown",
   "metadata": {},
   "source": [
    "-Read train data\n",
    "\n",
    "-Split train data into train and validation sets in the ration 90%-10%"
   ]
  },
  {
   "cell_type": "code",
   "execution_count": null,
   "metadata": {
    "id": "OLIF3n1DFcCb"
   },
   "outputs": [],
   "source": [
    "import numpy as np\n",
    "import pandas as pd\n",
    "from sklearn.model_selection import train_test_split\n",
    "\n",
    "train = pd.read_csv('train.csv')\n",
    "test = pd.read_csv('test.csv')\n",
    "\n",
    "train, val = train_test_split(train, test_size=0.1)"
   ]
  },
  {
   "cell_type": "markdown",
   "metadata": {},
   "source": [
    "-Get Universal Encoder Embeddings for sequences"
   ]
  },
  {
   "cell_type": "code",
   "execution_count": null,
   "metadata": {
    "id": "gQ71hsUPGTEG"
   },
   "outputs": [],
   "source": [
    "def get_sentence_embedding(train, val, test):\n",
    "    train_x = train['comment_text'].str.lower()\n",
    "    val_x = val['comment_text'].str.lower()\n",
    "    test_x = test['comment_text'].str.lower()\n",
    "    \n",
    "    train_y = train[['toxic', 'severe_toxic', 'obscene', 'threat', 'insult', 'identity_hate']].values\n",
    "    val_y = val[['toxic', 'severe_toxic', 'obscene', 'threat', 'insult', 'identity_hate']].values\n",
    "    \n",
    "    \n",
    "    return train_x, val_x, test_x, train_y, val_y\n",
    "    \n",
    "\n",
    "\n",
    "def UniversalEmbedding(x):\n",
    "    return module(tf.squeeze(tf.cast(x, tf.string)), \n",
    "                 signature=\"default\", as_dict=True)[\"default\"]\n"
   ]
  },
  {
   "cell_type": "code",
   "execution_count": null,
   "metadata": {},
   "outputs": [],
   "source": [
    "train_x, val_x, test_x, train_y, val_y = get_sentence_embedding(train, val, test)  "
   ]
  },
  {
   "cell_type": "markdown",
   "metadata": {},
   "source": [
    "#### Model for Universal Sentence Encoder ####"
   ]
  },
  {
   "cell_type": "code",
   "execution_count": null,
   "metadata": {
    "id": "w4HKW9h-IoFG"
   },
   "outputs": [],
   "source": [
    "from tensorflow.keras.models import Model\n",
    "from tensorflow.keras.layers import Lambda, Dense\n",
    "from keras import backend as K"
   ]
  },
  {
   "cell_type": "code",
   "execution_count": null,
   "metadata": {
    "id": "rzDFn6hOIJYY"
   },
   "outputs": [],
   "source": [
    "MAX_LEN = 100 \n",
    "MAX_WORDS = 50000\n",
    "EMBED_SIZE = 512 #USE embed size\n",
    "\n",
    "class USE(Model):\n",
    "    def __init__(self, ):\n",
    "        super(USE, self).__init__()\n",
    "\n",
    "        self.embedding = Lambda(UniversalEmbedding,output_shape=(EMBED_SIZE,))\n",
    "        self.l2 = Dense(6, activation='sigmoid')\n",
    "\n",
    "    def call(self, inp):\n",
    "        x = self.embedding(inp)\n",
    "        x = self.l2(x)\n",
    "        return x\n"
   ]
  },
  {
   "cell_type": "markdown",
   "metadata": {},
   "source": [
    "- Start session and fit model\n",
    "- Optimizer: Adam, Criterion: BCE"
   ]
  },
  {
   "cell_type": "code",
   "execution_count": null,
   "metadata": {
    "id": "CBscPuk5FnPR"
   },
   "outputs": [],
   "source": [
    "BATCH_SIZE = 128\n",
    "\n",
    "model = USE()\n",
    "model.compile(loss='binary_crossentropy', optimizer='adam', metrics=['accuracy'])\n",
    "\n",
    "with tfv1.Session() as session:\n",
    "    K.set_session(session)\n",
    "    session.run(tfv1.global_variables_initializer())\n",
    "    session.run(tfv1.tables_initializer())\n",
    "    history = model.fit(np.array(train_x), \n",
    "            train_y,\n",
    "            validation_data=(np.array(val_x), val_y),\n",
    "            epochs=1, \n",
    "            batch_size=BATCH_SIZE)\n",
    "    model.save_weights('./model.h5')"
   ]
  },
  {
   "cell_type": "markdown",
   "metadata": {},
   "source": [
    "- Make predictions in session\n",
    "- Match format of sample_submission"
   ]
  },
  {
   "cell_type": "code",
   "execution_count": null,
   "metadata": {
    "id": "-ctY3RUw296Z"
   },
   "outputs": [],
   "source": [
    "BATCH_SIZE = 1024\n",
    "with tfv1.Session() as session:\n",
    "    K.set_session(session)\n",
    "    session.run(tfv1.global_variables_initializer())\n",
    "    session.run(tfv1.tables_initializer())\n",
    "    predictions = model.predict(test_x, batch_size=BATCH_SIZE, verbose=1)\n",
    "    submission = pd.read_csv('input/sample_submission.csv')\n",
    "    submission[['toxic', 'severe_toxic', 'obscene', 'threat', 'insult', 'identity_hate']] = predictionssubmission.to_csv('submission.csv', index=False)"
   ]
  }
 ],
 "metadata": {
  "accelerator": "GPU",
  "colab": {
   "name": "USE.ipynb",
   "private_outputs": true,
   "provenance": []
  },
  "kernelspec": {
   "display_name": "Python 3",
   "language": "python",
   "name": "python3"
  },
  "language_info": {
   "codemirror_mode": {
    "name": "ipython",
    "version": 3
   },
   "file_extension": ".py",
   "mimetype": "text/x-python",
   "name": "python",
   "nbconvert_exporter": "python",
   "pygments_lexer": "ipython3",
   "version": "3.8.5"
  }
 },
 "nbformat": 4,
 "nbformat_minor": 1
}
