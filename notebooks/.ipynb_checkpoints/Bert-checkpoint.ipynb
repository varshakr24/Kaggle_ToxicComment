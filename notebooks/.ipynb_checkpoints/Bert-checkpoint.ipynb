{
 "cells": [
  {
   "cell_type": "code",
   "execution_count": 2,
   "metadata": {},
   "outputs": [
    {
     "name": "stdout",
     "output_type": "stream",
     "text": [
      "Collecting keras\n",
      "  Downloading Keras-2.4.3-py2.py3-none-any.whl (36 kB)\n",
      "Requirement already satisfied: h5py in /home/ubuntu/anaconda3/envs/tensorflow2_latest_p37/lib/python3.7/site-packages (from keras) (2.10.0)\n",
      "Requirement already satisfied: numpy>=1.9.1 in /home/ubuntu/anaconda3/envs/tensorflow2_latest_p37/lib/python3.7/site-packages (from keras) (1.18.1)\n",
      "Requirement already satisfied: scipy>=0.14 in /home/ubuntu/anaconda3/envs/tensorflow2_latest_p37/lib/python3.7/site-packages (from keras) (1.4.1)\n",
      "Requirement already satisfied: pyyaml in /home/ubuntu/anaconda3/envs/tensorflow2_latest_p37/lib/python3.7/site-packages (from keras) (5.3.1)\n",
      "Requirement already satisfied: six in /home/ubuntu/anaconda3/envs/tensorflow2_latest_p37/lib/python3.7/site-packages (from h5py->keras) (1.14.0)\n",
      "Installing collected packages: keras\n",
      "Successfully installed keras-2.4.3\n"
     ]
    }
   ],
   "source": [
    "!pip install keras==2.4.3"
   ]
  },
  {
   "cell_type": "code",
   "execution_count": null,
   "metadata": {},
   "outputs": [],
   "source": [
    "import numpy as np\n",
    "import pandas as pd\n",
    "from sklearn.model_selection import train_test_split\n",
    "\n",
    "\n",
    "from keras.preprocessing import text, sequence\n",
    "from keras.callbacks import EarlyStopping\n",
    "from keras.preprocessing.sequence import pad_sequences\n",
    "from transformers import BertTokenizer\n",
    "\n",
    "from all_models import *"
   ]
  },
  {
   "cell_type": "code",
   "execution_count": 2,
   "metadata": {},
   "outputs": [],
   "source": [
    "train = pd.read_csv('cleaned/train.csv')\n",
    "test = pd.read_csv('cleaned/test.csv')\n",
    "\n",
    "train, val = train_test_split(train, test_size=0.1)"
   ]
  },
  {
   "cell_type": "code",
   "execution_count": null,
   "metadata": {},
   "outputs": [],
   "source": [
    "def bert_tokenize(tokenizer, sentences):\n",
    "    tokenized_sentences = []\n",
    "    for sentence in sentences:\n",
    "        tokenized_sentence = tokenizer.encode(sentence,add_special_tokens = True, truncation=True, max_length = MAX_LEN)\n",
    "        tokenized_sentences.append(tokenized_sentence)\n",
    "    return tokenized_sentences\n",
    "\n",
    "def create_attention_masks(tokenized_and_padded_sentences):\n",
    "    attention_masks = []\n",
    "    for sentence in tokenized_and_padded_sentences:\n",
    "        att_mask = [int(token_id > 0) for token_id in sentence]\n",
    "        attention_masks.append(att_mask)\n",
    "    return np.asarray(attention_masks)\n",
    "\n",
    "def get_bert_tokenized(model_name, train, val, test):\n",
    "    train_x = train['comment_text']\n",
    "    val_x = val['comment_text']\n",
    "    test_x = test['comment_text']\n",
    "\n",
    "\n",
    "    train_y = train[['toxic', 'severe_toxic', 'obscene', 'threat', 'insult', 'identity_hate']].values\n",
    "    val_y = val[['toxic', 'severe_toxic', 'obscene', 'threat', 'insult', 'identity_hate']].values\n",
    "    \n",
    "    tokenizer = BertTokenizer.from_pretrained(model_name, do_lower_case=True)\n",
    "    train_x = bert_tokenize(tokenizer,train_x)\n",
    "    train_x = pad_sequences(train_x, maxlen=MAX_LEN, dtype=\"long\", value=0, truncating=\"post\", padding=\"post\")\n",
    "    attn_train_x = create_attention_masks(train_x)\n",
    "    \n",
    "    val_x = bert_tokenize(tokenizer,val_x)\n",
    "    val_x = pad_sequences(val_x, maxlen=MAX_LEN, dtype=\"long\", value=0, truncating=\"post\", padding=\"post\")\n",
    "    attn_val_x = create_attention_masks(val_x)\n",
    "    \n",
    "    \n",
    "    test_x = bert_tokenize(tokenizer,test_x)\n",
    "    test_x = pad_sequences(test_x, maxlen=MAX_LEN,  dtype=\"long\", value=0, truncating=\"post\", padding=\"post\")\n",
    "    attn_text_x = create_attention_masks(test_x)\n",
    "    \n",
    "    return train_x, val_x, test_x, train_y, val_y, attn_train_x, attn_val_x, attn_test_x"
   ]
  },
  {
   "cell_type": "code",
   "execution_count": null,
   "metadata": {},
   "outputs": [],
   "source": [
    "train_x, val_x, test_x, train_y, val_y, attn_train_x,\n",
    "    attn_val_x, attn_test_x = get_bert_tokenized(train, val, test)"
   ]
  },
  {
   "cell_type": "code",
   "execution_count": null,
   "metadata": {},
   "outputs": [],
   "source": [
    "BATCH_SIZE = 64\n",
    "\n",
    "es = EarlyStopping(monitor='val_loss', mode='min', verbose=1)\n",
    "model = BertModel(TFBertModel.from_pretrained('bert-base-uncased'))\n",
    "model.compile(loss='binary_crossentropy', optimizer='adam', metrics=['accuracy'])\n",
    "\n",
    "model.fit(train_x, train_y, batch_size=BATCH_SIZE, epochs=5,\n",
    "          verbose=1,callbacks=[es],validation_data=(val_x,val_y))\n"
   ]
  },
  {
   "cell_type": "code",
   "execution_count": null,
   "metadata": {},
   "outputs": [],
   "source": [
    "predictions = model.predict(test_x, batch_size=BATCH_SIZE, verbose=1)\n",
    "submission = pd.read_csv('input/sample_submission.csv')\n",
    "submission[['toxic', 'severe_toxic', 'obscene', 'threat', 'insult', 'identity_hate']] = predictions\n",
    "submission.to_csv('submission.csv', index=False)"
   ]
  }
 ],
 "metadata": {
  "kernelspec": {
   "display_name": "Environment (conda_tensorflow2_latest_p37)",
   "language": "python",
   "name": "conda_tensorflow2_latest_p37"
  }
 },
 "nbformat": 4,
 "nbformat_minor": 4
}
