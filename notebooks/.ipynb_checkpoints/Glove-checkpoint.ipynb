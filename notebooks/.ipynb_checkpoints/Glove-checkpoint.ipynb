{
 "cells": [
  {
   "cell_type": "markdown",
   "metadata": {},
   "source": [
    "### Models with Glove embedding ###\n",
    "\n",
    "Available models:\n",
    "- BiLSTM\n",
    "- LSTM_CNN\n",
    "- GRU_CNN\n",
    "- LSTM_CNN2\n",
    "- CNN_LSTM\n",
    "- CNN_Large\n",
    "\n",
    "Description in report"
   ]
  },
  {
   "cell_type": "code",
   "execution_count": null,
   "metadata": {},
   "outputs": [],
   "source": [
    "import numpy as np\n",
    "import pandas as pd\n",
    "from sklearn.model_selection import train_test_split\n",
    "\n",
    "\n",
    "from keras.preprocessing import text, sequence\n",
    "from keras.callbacks import EarlyStopping\n",
    "\n",
    "from models.all_models import BiLSTM, LSTM_CNN, GRU_CNN, LSTM_CNN2, CNN_LSTM, CNN_Large\n",
    "from models.constants import MAX_LEN, BERT_MODEL, TRAIN, TEST, EMBED, MAX_WORDS"
   ]
  },
  {
   "cell_type": "markdown",
   "metadata": {},
   "source": [
    "Download glove vectors"
   ]
  },
  {
   "cell_type": "code",
   "execution_count": null,
   "metadata": {},
   "outputs": [],
   "source": [
    "!wget http://nlp.stanford.edu/data/glove.840B.300d.zip\n",
    "!mkdir embed\n",
    "!mv glove.840B.300d.zip embed/glove.840B.300d.txt\n",
    "!cd ~/.vector_cache; unzip embed/glove.840B.300d.txt"
   ]
  },
  {
   "cell_type": "markdown",
   "metadata": {},
   "source": [
    "-Read train data\n",
    "\n",
    "-Split train data into train and validation sets in the ration 90%-10%"
   ]
  },
  {
   "cell_type": "code",
   "execution_count": null,
   "metadata": {},
   "outputs": [],
   "source": [
    "EMBED = '~/.vector_cache/glove.840B.300d.txt'\n",
    "train = pd.read_csv(TRAIN)\n",
    "test = pd.read_csv(TEST)\n",
    "\n",
    "train, val = train_test_split(train, test_size=0.1)"
   ]
  },
  {
   "cell_type": "markdown",
   "metadata": {},
   "source": [
    "- Tokenize and pad sequence\n",
    "- Get datasets for model training and evaluation in required form\n",
    "- Get embedding matrix for embedding layer"
   ]
  },
  {
   "cell_type": "code",
   "execution_count": null,
   "metadata": {},
   "outputs": [],
   "source": [
    "def get_tokenized(train, val, test):\n",
    "    train_x = train['comment_text'].str.lower()\n",
    "    val_x = val['comment_text'].str.lower()\n",
    "    test_x = test['comment_text'].str.lower()\n",
    "\n",
    "\n",
    "    train_y = train[['toxic', 'severe_toxic', 'obscene', 'threat', 'insult', 'identity_hate']].values\n",
    "    val_y = val[['toxic', 'severe_toxic', 'obscene', 'threat', 'insult', 'identity_hate']].values\n",
    "    \n",
    "    tokenizer = text.Tokenizer(num_words=MAX_WORDS, lower=True)\n",
    "    tokenizer.fit_on_texts(list(train_x))\n",
    "    train_x = tokenizer.texts_to_sequences(train_x)\n",
    "    val_x = tokenizer.texts_to_sequences(val_x)\n",
    "    test_x = tokenizer.texts_to_sequences(test_x)\n",
    "\n",
    "    train_x = sequence.pad_sequences(train_x, maxlen=MAX_LEN)\n",
    "    val_x = sequence.pad_sequences(val_x, maxlen=MAX_LEN)\n",
    "    test_x = sequence.pad_sequences(test_x, maxlen=MAX_LEN)\n",
    "    return tokenizer, train_x, val_x, test_x, train_y, val_y\n",
    "\n",
    "\n",
    "\n",
    "def get_embedding_matrix(tokenizer, embed_file):\n",
    "    embeddings = {}\n",
    "    with open(embed_file, encoding='utf8') as f:\n",
    "        for line in f:\n",
    "            values = line.rstrip().rsplit(' ')\n",
    "            word, vec = values[0], np.asarray(values[1:], dtype='float32')\n",
    "            embeddings[word] = vec\n",
    "\n",
    "\n",
    "    embedding_matrix = np.zeros((MAX_WORDS, EMBED_SIZE))\n",
    "    for word, i in tokenizer.word_index.items():\n",
    "        if i < MAX_WORDS:\n",
    "            embedding_vector = embeddings.get(word)\n",
    "            if embedding_vector is not None:\n",
    "                embedding_matrix[i] = embedding_vector\n",
    "    return embedding_matrix\n"
   ]
  },
  {
   "cell_type": "code",
   "execution_count": null,
   "metadata": {},
   "outputs": [],
   "source": [
    "tokenizer, train_x, val_x, test_x, train_y, val_y = get_tokenized(train, val, test)\n",
    "embedding_matrix = get_embedding_matrix(tokenizer, EMBED)"
   ]
  },
  {
   "cell_type": "markdown",
   "metadata": {},
   "source": [
    "- Fit the model to train data\n",
    "- Use early stopping to break when val loss increases\n",
    "- Optimizer: Adam, Criterion: BCE"
   ]
  },
  {
   "cell_type": "code",
   "execution_count": null,
   "metadata": {},
   "outputs": [],
   "source": [
    "BATCH_SIZE = 128\n",
    "\n",
    "\n",
    "es = EarlyStopping(monitor='val_loss', mode='min', verbose=1)\n",
    "model = LSTM_CNN(embedding_matrix, dropout=0.3, lstm_hidden=128, cnn_filter=64)\n",
    "model.compile(loss='binary_crossentropy', optimizer='adam', metrics=['accuracy'])\n",
    "\n",
    "model.fit(train_x, train_y, batch_size=BATCH_SIZE, epochs=5, verbose=1,callbacks=[es],validation_data=(val_x,val_y))\n"
   ]
  },
  {
   "cell_type": "markdown",
   "metadata": {},
   "source": [
    "- Make predictions\n",
    "- Match format of sample_submission"
   ]
  },
  {
   "cell_type": "code",
   "execution_count": null,
   "metadata": {},
   "outputs": [],
   "source": [
    "predictions = model.predict(test_x, batch_size=BATCH_SIZE, verbose=1)\n",
    "submission = pd.read_csv('input/sample_submission.csv')\n",
    "submission[['toxic', 'severe_toxic', 'obscene', 'threat', 'insult', 'identity_hate']] = predictions\n",
    "submission.to_csv('submission.csv', index=False)"
   ]
  }
 ],
 "metadata": {
  "kernelspec": {
   "display_name": "Python 3",
   "language": "python",
   "name": "python3"
  },
  "language_info": {
   "codemirror_mode": {
    "name": "ipython",
    "version": 3
   },
   "file_extension": ".py",
   "mimetype": "text/x-python",
   "name": "python",
   "nbconvert_exporter": "python",
   "pygments_lexer": "ipython3",
   "version": "3.8.5"
  }
 },
 "nbformat": 4,
 "nbformat_minor": 4
}
